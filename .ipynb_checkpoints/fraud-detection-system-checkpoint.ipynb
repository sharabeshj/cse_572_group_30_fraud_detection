{
 "cells": [
  {
   "cell_type": "markdown",
   "id": "14874bad-7ee4-4527-b763-e0802ea4d6fd",
   "metadata": {},
   "source": [
    "# Fraud Detection System"
   ]
  },
  {
   "cell_type": "markdown",
   "id": "70210d72-09b1-47cd-81e4-3f3988c95b81",
   "metadata": {},
   "source": [
    "### Data Mining Pipeline\n",
    "1. Data Collection\n",
    "2. Data Analysis and Visualization\n",
    "3. Data Pre-processing\n",
    "4. Model Selection and Training\n",
    "5. Model Evaulation "
   ]
  },
  {
   "cell_type": "code",
   "execution_count": 1,
   "id": "683e8abb",
   "metadata": {
    "scrolled": true
   },
   "outputs": [
    {
     "name": "stdout",
     "output_type": "stream",
     "text": [
      "Requirement already satisfied: kaggle in /Users/aira/opt/anaconda3/envs/cse572/lib/python3.10/site-packages (1.5.16)\n",
      "Requirement already satisfied: six>=1.10 in /Users/aira/opt/anaconda3/envs/cse572/lib/python3.10/site-packages (from kaggle) (1.16.0)\n",
      "Requirement already satisfied: certifi in /Users/aira/opt/anaconda3/envs/cse572/lib/python3.10/site-packages (from kaggle) (2023.7.22)\n",
      "Requirement already satisfied: python-dateutil in /Users/aira/opt/anaconda3/envs/cse572/lib/python3.10/site-packages (from kaggle) (2.8.2)\n",
      "Requirement already satisfied: requests in /Users/aira/opt/anaconda3/envs/cse572/lib/python3.10/site-packages (from kaggle) (2.31.0)\n",
      "Requirement already satisfied: tqdm in /Users/aira/opt/anaconda3/envs/cse572/lib/python3.10/site-packages (from kaggle) (4.66.1)\n",
      "Requirement already satisfied: python-slugify in /Users/aira/opt/anaconda3/envs/cse572/lib/python3.10/site-packages (from kaggle) (8.0.1)\n",
      "Requirement already satisfied: urllib3 in /Users/aira/opt/anaconda3/envs/cse572/lib/python3.10/site-packages (from kaggle) (2.0.5)\n",
      "Requirement already satisfied: bleach in /Users/aira/opt/anaconda3/envs/cse572/lib/python3.10/site-packages (from kaggle) (6.0.0)\n",
      "Requirement already satisfied: webencodings in /Users/aira/opt/anaconda3/envs/cse572/lib/python3.10/site-packages (from bleach->kaggle) (0.5.1)\n",
      "Requirement already satisfied: text-unidecode>=1.3 in /Users/aira/opt/anaconda3/envs/cse572/lib/python3.10/site-packages (from python-slugify->kaggle) (1.3)\n",
      "Requirement already satisfied: charset-normalizer<4,>=2 in /Users/aira/opt/anaconda3/envs/cse572/lib/python3.10/site-packages (from requests->kaggle) (3.2.0)\n",
      "Requirement already satisfied: idna<4,>=2.5 in /Users/aira/opt/anaconda3/envs/cse572/lib/python3.10/site-packages (from requests->kaggle) (3.4)\n"
     ]
    }
   ],
   "source": [
    "!pip install kaggle"
   ]
  },
  {
   "cell_type": "code",
   "execution_count": 2,
   "id": "a6f91b6a",
   "metadata": {},
   "outputs": [
    {
     "name": "stdout",
     "output_type": "stream",
     "text": [
      "Intel MKL WARNING: Support of Intel(R) Streaming SIMD Extensions 4.2 (Intel(R) SSE4.2) enabled only processors has been deprecated. Intel oneAPI Math Kernel Library 2025.0 will require Intel(R) Advanced Vector Extensions (Intel(R) AVX) instructions.\n",
      "Intel MKL WARNING: Support of Intel(R) Streaming SIMD Extensions 4.2 (Intel(R) SSE4.2) enabled only processors has been deprecated. Intel oneAPI Math Kernel Library 2025.0 will require Intel(R) Advanced Vector Extensions (Intel(R) AVX) instructions.\n"
     ]
    }
   ],
   "source": [
    "# data retrieval\n",
    "import os\n",
    "import io\n",
    "import zipfile\n",
    "import shutil\n",
    "\n",
    "# data analysis\n",
    "import pandas as pd\n",
    "import numpy as np\n",
    "\n",
    "# visualization\n",
    "import seaborn as sns\n",
    "import matplotlib.pyplot as plt\n",
    "\n",
    "# models\n",
    "from sklearn.model_selection import train_test_split, GridSearchCV, cross_val_score\n",
    "from sklearn.metrics import accuracy_score, classification_report\n",
    "from sklearn.tree import plot_tree\n",
    "from sklearn.tree import DecisionTreeClassifier\n",
    "from sklearn.ensemble import RandomForestClassifier\n",
    "from sklearn.linear_model import LogisticRegression\n",
    "\n",
    "# other\n",
    "import warnings\n",
    "warnings.filterwarnings(\"ignore\", category=DeprecationWarning)"
   ]
  },
  {
   "cell_type": "markdown",
   "id": "9db4c945-1bdf-4d73-af13-71df64feb4aa",
   "metadata": {},
   "source": [
    "### Data Collection (Retrieval Using Kaggle Key)\n",
    "- You must have a Kaggle account and API key to retrieve their dataset. To retrieve the key, follow: https://www.kaggle.com/docs/api\n",
    "- Then, download the paysim1.zip from https://www.kaggle.com/datasets/ealaxi/paysim1 and add within the same directory as this notebook file."
   ]
  },
  {
   "cell_type": "code",
   "execution_count": 3,
   "id": "13a28b53",
   "metadata": {},
   "outputs": [],
   "source": [
    "# Set your Kaggle API key credentials (replace with your own values)\n",
    "os.environ['KAGGLE_USERNAME'] = 'your_username'\n",
    "os.environ['KAGGLE_KEY'] = 'your_api_key'"
   ]
  },
  {
   "cell_type": "code",
   "execution_count": 4,
   "id": "020eea96",
   "metadata": {
    "scrolled": true
   },
   "outputs": [],
   "source": [
    "if not os.path.exists(\"paysim1.zip\"):\n",
    "    # Use Kaggle CLI to download the \"paysim1\" dataset\n",
    "    !kaggle datasets download -d ealaxi/paysim1\n",
    "    \n",
    "if os.path.exists(\"paysim1.zip\"):\n",
    "    with zipfile.ZipFile(\"paysim1.zip\", \"r\") as zip_ref:\n",
    "        zip_ref.extractall(\"paysim1\")\n",
    "        \n",
    "    # Specify the path to the CSV file\n",
    "    csv_file_path = \"paysim1/PS_20174392719_1491204439457_log.csv\"\n",
    "    \n",
    "    # Read the CSV file content into memory\n",
    "    with open(csv_file_path, \"rb\") as f:\n",
    "        csv_content = f.read()\n",
    "    shutil.rmtree(\"paysim1\")\n",
    "else:\n",
    "    print(\"The paysim1.zip file is missing. Dataset not downloaded.\")\n"
   ]
  },
  {
   "cell_type": "markdown",
   "id": "e008a243-d032-496b-aa2d-06f4214404f5",
   "metadata": {},
   "source": [
    "### Data Analysis\n",
    "In the next two sections, we will perform a data analysis by description and by data visualization.\n",
    "\n",
    "After reading in the dataset, we see eleven different features:\n",
    "- **step**: time transaction occurred (1 step = 1 hour)\n",
    "- **type**: type of transaction (CASH-IN, CASH-OUT, DEBIT, PAYMENT, TRANSFER)\n",
    "- **amount**: amount of money (dollars) involved\n",
    "- **nameOrig**: ID of sender\n",
    "- **oldbalanceOrg**: initial balance of sender\n",
    "- **newbalanceOrig**: final balance of sender\n",
    "- **nameDest**: ID of recipient\n",
    "- **oldBalanceDest**: initial balance of recipient\n",
    "- **newBalanceDest**: final balance of recipient\n",
    "- **isFraud**: a flag for fraudulent (1) and non-fraudulent (0) transactions\n",
    "- **isFlaggedFraud**: a flag that checks if transaction has been flagged as fraud (1) or not (0)"
   ]
  },
  {
   "cell_type": "code",
   "execution_count": 5,
   "id": "196b8e8a",
   "metadata": {
    "scrolled": true
   },
   "outputs": [
    {
     "name": "stdout",
     "output_type": "stream",
     "text": [
      "['step' 'type' 'amount' 'nameOrig' 'oldbalanceOrg' 'newbalanceOrig'\n",
      " 'nameDest' 'oldbalanceDest' 'newbalanceDest' 'isFraud' 'isFlaggedFraud']\n"
     ]
    }
   ],
   "source": [
    "data = pd.read_csv(io.BytesIO(csv_content))\n",
    "print(data.columns.values)"
   ]
  },
  {
   "cell_type": "markdown",
   "id": "87f4e66d-32e6-424d-9238-0747ccfe8d1e",
   "metadata": {},
   "source": [
    "From the names of the attributes shown, we find inconsistency in the naming convention. We update the name of newBalanceOrg to newbalanceOrig to match with the other attribute names."
   ]
  },
  {
   "cell_type": "code",
   "execution_count": 6,
   "id": "a7b9f6ba-e93b-443b-b78c-930bb0e5febd",
   "metadata": {},
   "outputs": [],
   "source": [
    "data.rename(columns={'newbalanceOrig':'newbalanceOrg'},inplace=True)"
   ]
  },
  {
   "cell_type": "markdown",
   "id": "88b38d5b-c1e4-48e2-8ca2-a38a5329b002",
   "metadata": {},
   "source": [
    "In the first step of our analysis, we check to see if our data set has any null values. \n",
    "We find that there are **no NULL values** in all eleven features."
   ]
  },
  {
   "cell_type": "code",
   "execution_count": 7,
   "id": "9c59046b",
   "metadata": {
    "scrolled": true
   },
   "outputs": [
    {
     "name": "stdout",
     "output_type": "stream",
     "text": [
      "Data does not have any NULL value.\n"
     ]
    },
    {
     "data": {
      "text/plain": [
       "step              False\n",
       "type              False\n",
       "amount            False\n",
       "nameOrig          False\n",
       "oldbalanceOrg     False\n",
       "newbalanceOrg     False\n",
       "nameDest          False\n",
       "oldbalanceDest    False\n",
       "newbalanceDest    False\n",
       "isFraud           False\n",
       "isFlaggedFraud    False\n",
       "dtype: bool"
      ]
     },
     "execution_count": 7,
     "metadata": {},
     "output_type": "execute_result"
    }
   ],
   "source": [
    "print('Data does not have any NULL value.')\n",
    "data.isnull().any()"
   ]
  },
  {
   "cell_type": "markdown",
   "id": "a31c4b72-4184-4947-81e7-ee7a065862c5",
   "metadata": {},
   "source": [
    "**Feature Data Types**\n",
    "\n",
    "Next, we check the data types for the eleven features. Here, we found:\n",
    "* Three features are object/string type.\n",
    "* Three features are integers.\n",
    "* Five features are floats."
   ]
  },
  {
   "cell_type": "code",
   "execution_count": 8,
   "id": "c0c7e12c-1df5-43d5-8cb8-8048b96c6767",
   "metadata": {
    "scrolled": true
   },
   "outputs": [
    {
     "name": "stdout",
     "output_type": "stream",
     "text": [
      "<class 'pandas.core.frame.DataFrame'>\n",
      "RangeIndex: 6362620 entries, 0 to 6362619\n",
      "Data columns (total 11 columns):\n",
      " #   Column          Dtype  \n",
      "---  ------          -----  \n",
      " 0   step            int64  \n",
      " 1   type            object \n",
      " 2   amount          float64\n",
      " 3   nameOrig        object \n",
      " 4   oldbalanceOrg   float64\n",
      " 5   newbalanceOrg   float64\n",
      " 6   nameDest        object \n",
      " 7   oldbalanceDest  float64\n",
      " 8   newbalanceDest  float64\n",
      " 9   isFraud         int64  \n",
      " 10  isFlaggedFraud  int64  \n",
      "dtypes: float64(5), int64(3), object(3)\n",
      "memory usage: 534.0+ MB\n"
     ]
    }
   ],
   "source": [
    "data.info()"
   ]
  },
  {
   "cell_type": "markdown",
   "id": "6a3fe943-2344-42b2-b944-ed635a667402",
   "metadata": {},
   "source": [
    "Out of the three object types, we drop **nameOrig** and **nameDest**, because they are **nominal** data types that can increase unnecessary complexity. This leaves us with only nine features to wrangle with."
   ]
  },
  {
   "cell_type": "code",
   "execution_count": 9,
   "id": "4895bb6e",
   "metadata": {
    "scrolled": true
   },
   "outputs": [
    {
     "data": {
      "text/html": [
       "<div>\n",
       "<style scoped>\n",
       "    .dataframe tbody tr th:only-of-type {\n",
       "        vertical-align: middle;\n",
       "    }\n",
       "\n",
       "    .dataframe tbody tr th {\n",
       "        vertical-align: top;\n",
       "    }\n",
       "\n",
       "    .dataframe thead th {\n",
       "        text-align: right;\n",
       "    }\n",
       "</style>\n",
       "<table border=\"1\" class=\"dataframe\">\n",
       "  <thead>\n",
       "    <tr style=\"text-align: right;\">\n",
       "      <th></th>\n",
       "      <th>step</th>\n",
       "      <th>type</th>\n",
       "      <th>amount</th>\n",
       "      <th>oldbalanceOrg</th>\n",
       "      <th>newbalanceOrg</th>\n",
       "      <th>oldbalanceDest</th>\n",
       "      <th>newbalanceDest</th>\n",
       "      <th>isFraud</th>\n",
       "      <th>isFlaggedFraud</th>\n",
       "    </tr>\n",
       "  </thead>\n",
       "  <tbody>\n",
       "    <tr>\n",
       "      <th>0</th>\n",
       "      <td>1</td>\n",
       "      <td>PAYMENT</td>\n",
       "      <td>9839.64</td>\n",
       "      <td>170136.0</td>\n",
       "      <td>160296.36</td>\n",
       "      <td>0.0</td>\n",
       "      <td>0.0</td>\n",
       "      <td>0</td>\n",
       "      <td>0</td>\n",
       "    </tr>\n",
       "    <tr>\n",
       "      <th>1</th>\n",
       "      <td>1</td>\n",
       "      <td>PAYMENT</td>\n",
       "      <td>1864.28</td>\n",
       "      <td>21249.0</td>\n",
       "      <td>19384.72</td>\n",
       "      <td>0.0</td>\n",
       "      <td>0.0</td>\n",
       "      <td>0</td>\n",
       "      <td>0</td>\n",
       "    </tr>\n",
       "    <tr>\n",
       "      <th>2</th>\n",
       "      <td>1</td>\n",
       "      <td>TRANSFER</td>\n",
       "      <td>181.00</td>\n",
       "      <td>181.0</td>\n",
       "      <td>0.00</td>\n",
       "      <td>0.0</td>\n",
       "      <td>0.0</td>\n",
       "      <td>1</td>\n",
       "      <td>0</td>\n",
       "    </tr>\n",
       "    <tr>\n",
       "      <th>3</th>\n",
       "      <td>1</td>\n",
       "      <td>CASH_OUT</td>\n",
       "      <td>181.00</td>\n",
       "      <td>181.0</td>\n",
       "      <td>0.00</td>\n",
       "      <td>21182.0</td>\n",
       "      <td>0.0</td>\n",
       "      <td>1</td>\n",
       "      <td>0</td>\n",
       "    </tr>\n",
       "    <tr>\n",
       "      <th>4</th>\n",
       "      <td>1</td>\n",
       "      <td>PAYMENT</td>\n",
       "      <td>11668.14</td>\n",
       "      <td>41554.0</td>\n",
       "      <td>29885.86</td>\n",
       "      <td>0.0</td>\n",
       "      <td>0.0</td>\n",
       "      <td>0</td>\n",
       "      <td>0</td>\n",
       "    </tr>\n",
       "  </tbody>\n",
       "</table>\n",
       "</div>"
      ],
      "text/plain": [
       "   step      type    amount  oldbalanceOrg  newbalanceOrg  oldbalanceDest  \\\n",
       "0     1   PAYMENT   9839.64       170136.0      160296.36             0.0   \n",
       "1     1   PAYMENT   1864.28        21249.0       19384.72             0.0   \n",
       "2     1  TRANSFER    181.00          181.0           0.00             0.0   \n",
       "3     1  CASH_OUT    181.00          181.0           0.00         21182.0   \n",
       "4     1   PAYMENT  11668.14        41554.0       29885.86             0.0   \n",
       "\n",
       "   newbalanceDest  isFraud  isFlaggedFraud  \n",
       "0             0.0        0               0  \n",
       "1             0.0        0               0  \n",
       "2             0.0        1               0  \n",
       "3             0.0        1               0  \n",
       "4             0.0        0               0  "
      ]
     },
     "execution_count": 9,
     "metadata": {},
     "output_type": "execute_result"
    }
   ],
   "source": [
    "data.drop(labels=['nameOrig','nameDest'],axis=1,inplace=True)\n",
    "data.head()"
   ]
  },
  {
   "cell_type": "markdown",
   "id": "654b4c10-b7d5-4cf9-b5e4-5279d27ec4c9",
   "metadata": {},
   "source": [
    "Finally, we note the minimum and maximum values of the amount, oldbalanceOrig, newbalanceOrig, oldbalanceDest, and newBalanceDest. *Something interesting to note is that there are transaction amounts that is at $0, after applying the minimum. This indicates that no money was sent or received in certain transactions.*"
   ]
  },
  {
   "cell_type": "code",
   "execution_count": 10,
   "id": "d5e954fe",
   "metadata": {
    "scrolled": true
   },
   "outputs": [
    {
     "name": "stdout",
     "output_type": "stream",
     "text": [
      "Minimum value of Amount, Old/New Balance of Origin/Destination:\n"
     ]
    },
    {
     "data": {
      "text/plain": [
       "amount            0.0\n",
       "oldbalanceOrg     0.0\n",
       "newbalanceOrg     0.0\n",
       "oldbalanceDest    0.0\n",
       "newbalanceDest    0.0\n",
       "dtype: float64"
      ]
     },
     "execution_count": 10,
     "metadata": {},
     "output_type": "execute_result"
    }
   ],
   "source": [
    "print('Minimum value of Amount, Old/New Balance of Origin/Destination:')\n",
    "data[[ 'amount','oldbalanceOrg', 'newbalanceOrg', 'oldbalanceDest', 'newbalanceDest']].min()"
   ]
  },
  {
   "cell_type": "markdown",
   "id": "c07f5477-c030-4a98-ad76-037c40cb1357",
   "metadata": {},
   "source": [
    "We find that any time the amount is $0, the transaction is always fraudulent. Interestingly, this is not reflected in the isFlaggedFraud column."
   ]
  },
  {
   "cell_type": "code",
   "execution_count": 11,
   "id": "c0c72ceb-5427-406e-ae8c-319fc4fedd39",
   "metadata": {},
   "outputs": [
    {
     "name": "stdout",
     "output_type": "stream",
     "text": [
      "         amount  isFraud  isFlaggedFraud\n",
      "2736447     0.0        1               0\n",
      "3247298     0.0        1               0\n",
      "3760289     0.0        1               0\n",
      "5563714     0.0        1               0\n",
      "5996408     0.0        1               0\n",
      "5996410     0.0        1               0\n",
      "6168500     0.0        1               0\n",
      "6205440     0.0        1               0\n",
      "6266414     0.0        1               0\n",
      "6281483     0.0        1               0\n",
      "6281485     0.0        1               0\n",
      "6296015     0.0        1               0\n",
      "6351226     0.0        1               0\n",
      "6362461     0.0        1               0\n",
      "6362463     0.0        1               0\n",
      "6362585     0.0        1               0\n"
     ]
    }
   ],
   "source": [
    "print(data[data['amount'] == 0][['amount', 'isFraud', 'isFlaggedFraud']])"
   ]
  },
  {
   "cell_type": "code",
   "execution_count": 12,
   "id": "ee137303",
   "metadata": {},
   "outputs": [
    {
     "name": "stdout",
     "output_type": "stream",
     "text": [
      "Maximum value of Amount, Old/New Balance of Origin/Destination:\n"
     ]
    },
    {
     "data": {
      "text/plain": [
       "amount            9.244552e+07\n",
       "oldbalanceOrg     5.958504e+07\n",
       "newbalanceOrg     4.958504e+07\n",
       "oldbalanceDest    3.560159e+08\n",
       "newbalanceDest    3.561793e+08\n",
       "dtype: float64"
      ]
     },
     "execution_count": 12,
     "metadata": {},
     "output_type": "execute_result"
    }
   ],
   "source": [
    "print('Maximum value of Amount, Old/New Balance of Origin/Destination:')\n",
    "data[[ 'amount','oldbalanceOrg', 'newbalanceOrg', 'oldbalanceDest', 'newbalanceDest']].max()"
   ]
  },
  {
   "cell_type": "markdown",
   "id": "08e05241-b62e-4118-aa2d-cb6523ee83c4",
   "metadata": {},
   "source": [
    "### Data Visualization"
   ]
  },
  {
   "cell_type": "markdown",
   "id": "de3f3925-964b-4684-8e22-e64abf955760",
   "metadata": {},
   "source": [
    "First, we group the data by type. Then we sum the total transaction amount by type. Hence, we see the total transaction amount per type in the bar graph below."
   ]
  },
  {
   "cell_type": "code",
   "execution_count": 13,
   "id": "7da3ebd2",
   "metadata": {},
   "outputs": [
    {
     "data": {
      "text/plain": [
       "Text(0, 0.5, 'Amount')"
      ]
     },
     "execution_count": 13,
     "metadata": {},
     "output_type": "execute_result"
    },
    {
     "data": {
      "image/png": "[encoded data removed]",
      "text/plain": [
       "<Figure size 640x480 with 1 Axes>"
      ]
     },
     "metadata": {},
     "output_type": "display_data"
    }
   ],
   "source": [
    "var = data.groupby('type').amount.sum()\n",
    "fig = plt.figure()\n",
    "ax1 = fig.add_subplot(1,1,1)\n",
    "var.plot(kind='bar')\n",
    "ax1.set_title(\"Total amount per transaction type\")\n",
    "ax1.set_xlabel('Type of Transaction')\n",
    "ax1.set_ylabel('Amount')"
   ]
  },
  {
   "cell_type": "markdown",
   "id": "3acbb288-aa53-4ae9-b9ca-61b45839c4f9",
   "metadata": {},
   "source": [
    "We can check which transaction type contain fraudulent transactions. First, we find all data which is fraudulent. Then we retrieve the types of fraudulent data. Here, we find that only the **TRANSFER** and **CASH_OUT** transactions contain fraudulent data."
   ]
  },
  {
   "cell_type": "code",
   "execution_count": 14,
   "id": "222081f8",
   "metadata": {},
   "outputs": [
    {
     "data": {
      "text/plain": [
       "array(['TRANSFER', 'CASH_OUT'], dtype=object)"
      ]
     },
     "execution_count": 14,
     "metadata": {},
     "output_type": "execute_result"
    }
   ],
   "source": [
    "data.loc[data.isFraud == 1].type.unique()"
   ]
  },
  {
   "cell_type": "code",
   "execution_count": 15,
   "id": "fb75e797",
   "metadata": {
    "scrolled": true
   },
   "outputs": [
    {
     "ename": "ValueError",
     "evalue": "could not convert string to float: 'PAYMENT'",
     "output_type": "error",
     "traceback": [
      "\u001b[0;31m---------------------------------------------------------------------------\u001b[0m",
      "\u001b[0;31mValueError\u001b[0m                                Traceback (most recent call last)",
      "Cell \u001b[0;32mIn[15], line 1\u001b[0m\n\u001b[0;32m----> 1\u001b[0m sns\u001b[38;5;241m.\u001b[39mheatmap(\u001b[43mdata\u001b[49m\u001b[38;5;241;43m.\u001b[39;49m\u001b[43mcorr\u001b[49m\u001b[43m(\u001b[49m\u001b[43m)\u001b[49m,cmap\u001b[38;5;241m=\u001b[39m\u001b[38;5;124m'\u001b[39m\u001b[38;5;124mRdBu\u001b[39m\u001b[38;5;124m'\u001b[39m);\n",
      "File \u001b[0;32m~/opt/anaconda3/envs/cse572/lib/python3.10/site-packages/pandas/core/frame.py:10054\u001b[0m, in \u001b[0;36mDataFrame.corr\u001b[0;34m(self, method, min_periods, numeric_only)\u001b[0m\n\u001b[1;32m  10052\u001b[0m cols \u001b[38;5;241m=\u001b[39m data\u001b[38;5;241m.\u001b[39mcolumns\n\u001b[1;32m  10053\u001b[0m idx \u001b[38;5;241m=\u001b[39m cols\u001b[38;5;241m.\u001b[39mcopy()\n\u001b[0;32m> 10054\u001b[0m mat \u001b[38;5;241m=\u001b[39m \u001b[43mdata\u001b[49m\u001b[38;5;241;43m.\u001b[39;49m\u001b[43mto_numpy\u001b[49m\u001b[43m(\u001b[49m\u001b[43mdtype\u001b[49m\u001b[38;5;241;43m=\u001b[39;49m\u001b[38;5;28;43mfloat\u001b[39;49m\u001b[43m,\u001b[49m\u001b[43m \u001b[49m\u001b[43mna_value\u001b[49m\u001b[38;5;241;43m=\u001b[39;49m\u001b[43mnp\u001b[49m\u001b[38;5;241;43m.\u001b[39;49m\u001b[43mnan\u001b[49m\u001b[43m,\u001b[49m\u001b[43m \u001b[49m\u001b[43mcopy\u001b[49m\u001b[38;5;241;43m=\u001b[39;49m\u001b[38;5;28;43;01mFalse\u001b[39;49;00m\u001b[43m)\u001b[49m\n\u001b[1;32m  10056\u001b[0m \u001b[38;5;28;01mif\u001b[39;00m method \u001b[38;5;241m==\u001b[39m \u001b[38;5;124m\"\u001b[39m\u001b[38;5;124mpearson\u001b[39m\u001b[38;5;124m\"\u001b[39m:\n\u001b[1;32m  10057\u001b[0m     correl \u001b[38;5;241m=\u001b[39m libalgos\u001b[38;5;241m.\u001b[39mnancorr(mat, minp\u001b[38;5;241m=\u001b[39mmin_periods)\n",
      "File \u001b[0;32m~/opt/anaconda3/envs/cse572/lib/python3.10/site-packages/pandas/core/frame.py:1838\u001b[0m, in \u001b[0;36mDataFrame.to_numpy\u001b[0;34m(self, dtype, copy, na_value)\u001b[0m\n\u001b[1;32m   1836\u001b[0m \u001b[38;5;28;01mif\u001b[39;00m dtype \u001b[38;5;129;01mis\u001b[39;00m \u001b[38;5;129;01mnot\u001b[39;00m \u001b[38;5;28;01mNone\u001b[39;00m:\n\u001b[1;32m   1837\u001b[0m     dtype \u001b[38;5;241m=\u001b[39m np\u001b[38;5;241m.\u001b[39mdtype(dtype)\n\u001b[0;32m-> 1838\u001b[0m result \u001b[38;5;241m=\u001b[39m \u001b[38;5;28;43mself\u001b[39;49m\u001b[38;5;241;43m.\u001b[39;49m\u001b[43m_mgr\u001b[49m\u001b[38;5;241;43m.\u001b[39;49m\u001b[43mas_array\u001b[49m\u001b[43m(\u001b[49m\u001b[43mdtype\u001b[49m\u001b[38;5;241;43m=\u001b[39;49m\u001b[43mdtype\u001b[49m\u001b[43m,\u001b[49m\u001b[43m \u001b[49m\u001b[43mcopy\u001b[49m\u001b[38;5;241;43m=\u001b[39;49m\u001b[43mcopy\u001b[49m\u001b[43m,\u001b[49m\u001b[43m \u001b[49m\u001b[43mna_value\u001b[49m\u001b[38;5;241;43m=\u001b[39;49m\u001b[43mna_value\u001b[49m\u001b[43m)\u001b[49m\n\u001b[1;32m   1839\u001b[0m \u001b[38;5;28;01mif\u001b[39;00m result\u001b[38;5;241m.\u001b[39mdtype \u001b[38;5;129;01mis\u001b[39;00m \u001b[38;5;129;01mnot\u001b[39;00m dtype:\n\u001b[1;32m   1840\u001b[0m     result \u001b[38;5;241m=\u001b[39m np\u001b[38;5;241m.\u001b[39marray(result, dtype\u001b[38;5;241m=\u001b[39mdtype, copy\u001b[38;5;241m=\u001b[39m\u001b[38;5;28;01mFalse\u001b[39;00m)\n",
      "File \u001b[0;32m~/opt/anaconda3/envs/cse572/lib/python3.10/site-packages/pandas/core/internals/managers.py:1732\u001b[0m, in \u001b[0;36mBlockManager.as_array\u001b[0;34m(self, dtype, copy, na_value)\u001b[0m\n\u001b[1;32m   1730\u001b[0m         arr\u001b[38;5;241m.\u001b[39mflags\u001b[38;5;241m.\u001b[39mwriteable \u001b[38;5;241m=\u001b[39m \u001b[38;5;28;01mFalse\u001b[39;00m\n\u001b[1;32m   1731\u001b[0m \u001b[38;5;28;01melse\u001b[39;00m:\n\u001b[0;32m-> 1732\u001b[0m     arr \u001b[38;5;241m=\u001b[39m \u001b[38;5;28;43mself\u001b[39;49m\u001b[38;5;241;43m.\u001b[39;49m\u001b[43m_interleave\u001b[49m\u001b[43m(\u001b[49m\u001b[43mdtype\u001b[49m\u001b[38;5;241;43m=\u001b[39;49m\u001b[43mdtype\u001b[49m\u001b[43m,\u001b[49m\u001b[43m \u001b[49m\u001b[43mna_value\u001b[49m\u001b[38;5;241;43m=\u001b[39;49m\u001b[43mna_value\u001b[49m\u001b[43m)\u001b[49m\n\u001b[1;32m   1733\u001b[0m     \u001b[38;5;66;03m# The underlying data was copied within _interleave, so no need\u001b[39;00m\n\u001b[1;32m   1734\u001b[0m     \u001b[38;5;66;03m# to further copy if copy=True or setting na_value\u001b[39;00m\n\u001b[1;32m   1736\u001b[0m \u001b[38;5;28;01mif\u001b[39;00m na_value \u001b[38;5;129;01mis\u001b[39;00m \u001b[38;5;129;01mnot\u001b[39;00m lib\u001b[38;5;241m.\u001b[39mno_default:\n",
      "File \u001b[0;32m~/opt/anaconda3/envs/cse572/lib/python3.10/site-packages/pandas/core/internals/managers.py:1794\u001b[0m, in \u001b[0;36mBlockManager._interleave\u001b[0;34m(self, dtype, na_value)\u001b[0m\n\u001b[1;32m   1792\u001b[0m     \u001b[38;5;28;01melse\u001b[39;00m:\n\u001b[1;32m   1793\u001b[0m         arr \u001b[38;5;241m=\u001b[39m blk\u001b[38;5;241m.\u001b[39mget_values(dtype)\n\u001b[0;32m-> 1794\u001b[0m     \u001b[43mresult\u001b[49m\u001b[43m[\u001b[49m\u001b[43mrl\u001b[49m\u001b[38;5;241;43m.\u001b[39;49m\u001b[43mindexer\u001b[49m\u001b[43m]\u001b[49m \u001b[38;5;241m=\u001b[39m arr\n\u001b[1;32m   1795\u001b[0m     itemmask[rl\u001b[38;5;241m.\u001b[39mindexer] \u001b[38;5;241m=\u001b[39m \u001b[38;5;241m1\u001b[39m\n\u001b[1;32m   1797\u001b[0m \u001b[38;5;28;01mif\u001b[39;00m \u001b[38;5;129;01mnot\u001b[39;00m itemmask\u001b[38;5;241m.\u001b[39mall():\n",
      "\u001b[0;31mValueError\u001b[0m: could not convert string to float: 'PAYMENT'"
     ]
    }
   ],
   "source": [
    "sns.heatmap(data.corr(),cmap='RdBu');"
   ]
  },
  {
   "cell_type": "code",
   "execution_count": null,
   "id": "00a7c963",
   "metadata": {
    "scrolled": true
   },
   "outputs": [],
   "source": [
    "fraud = data.loc[data.isFraud == 1]\n",
    "nonfraud = data.loc[data.isFraud == 0]\n",
    "\n",
    "fig = plt.figure()\n",
    "axes = fig.add_subplot(1,1,1)\n",
    "axes.set_title(\"Fraud transaction which are Flagged Correctly\")\n",
    "axes.scatter(nonfraud['amount'],nonfraud['isFlaggedFraud'],c='g')\n",
    "axes.scatter(fraud['amount'],fraud['isFlaggedFraud'],c='r')\n",
    "\n",
    "plt.legend(loc='upper right',labels=['Not Fraud','Fraud'])\n",
    "plt.xlabel('Transaction Amount')\n",
    "plt.ylabel('Flagged Fraud (where 1=isFlagged, 0=isNotFlagged)')\n",
    "plt.show()"
   ]
  },
  {
   "cell_type": "markdown",
   "id": "c8eb0a14",
   "metadata": {},
   "source": [
    "The plot above clearly shows the need for a system which can be fast and reliable to mark the transaction which is fraud. Since, the current system is letting fraud transaction able to pass through a system which is not labeling them as a fraud."
   ]
  },
  {
   "cell_type": "markdown",
   "id": "4ff9a54f-443b-482c-b0ee-472d48953054",
   "metadata": {},
   "source": [
    "#### Classification Report of Original Model (before preprocessing)"
   ]
  },
  {
   "cell_type": "code",
   "execution_count": null,
   "id": "87fbfd79-231c-4f20-bf07-967acc12a7bc",
   "metadata": {
    "scrolled": true
   },
   "outputs": [],
   "source": [
    "print(\"Classification Report for Original Model:\")\n",
    "print(classification_report(data['isFraud'], data['isFlaggedFraud'], digits=8))\n",
    "print(\"Actual Fraudulent Transactions that were Flagged Fraud:\", len(fraud.loc[fraud.isFlaggedFraud==1]))\n",
    "print(\"Actual Fraudulent Transactions that were NOT Flagged Fraud:\", len(fraud.loc[fraud.isFlaggedFraud==0]))"
   ]
  },
  {
   "cell_type": "markdown",
   "id": "543ba86c-9b9b-4a96-88ed-2429f295746e",
   "metadata": {},
   "source": [
    "As of checkpoint 2, we also included a classification report of the original model the data was trained on. We can see that the original model has incredible precision, but has terrible recall (almost 0%). This means although, it will always be correct in classifying fraudulent transactions (hence, a good precision), it will basically never flag anything as fraudulent which renders it useless."
   ]
  },
  {
   "cell_type": "markdown",
   "id": "62f9caf1-faa8-4af0-b285-db1547c32d4b",
   "metadata": {},
   "source": [
    "### Data Pre-processing"
   ]
  },
  {
   "cell_type": "markdown",
   "id": "39b7e8da-b5d1-489b-a0d4-0d573bf8c0e4",
   "metadata": {},
   "source": [
    "First, we perform vectorization by converting the transaction type from a string object to integer type. This way, it can be used as input for machine learning algorithms."
   ]
  },
  {
   "cell_type": "code",
   "execution_count": null,
   "id": "07325bb9",
   "metadata": {},
   "outputs": [],
   "source": [
    "data = data.replace(to_replace={'PAYMENT':1,'TRANSFER':2,'CASH_OUT':3,'CASH_IN':4,'DEBIT':5})"
   ]
  },
  {
   "cell_type": "markdown",
   "id": "549c546d-28f3-4a9c-a1c3-d1bd892c0406",
   "metadata": {},
   "source": [
    "Next, we drop the **isFlaggedFraud** since this is generated by a previous model which we will replace."
   ]
  },
  {
   "cell_type": "code",
   "execution_count": null,
   "id": "e9a96bd8",
   "metadata": {},
   "outputs": [],
   "source": [
    "data.drop(['isFlaggedFraud'],axis=1,inplace=True)\n",
    "data.head()"
   ]
  },
  {
   "cell_type": "markdown",
   "id": "fb8243dc",
   "metadata": {},
   "source": [
    "### Machine Learning Model\n",
    "#### Explore Different DM Methods"
   ]
  },
  {
   "cell_type": "code",
   "execution_count": null,
   "id": "1984864e-6174-4224-bd5d-6a3f58aecdb5",
   "metadata": {},
   "outputs": [],
   "source": [
    "train, test = train_test_split(data, test_size=0.6)\n",
    "\n",
    "# create training dataset\n",
    "y_train = train['isFraud']\n",
    "X_train = train.drop(['isFraud'], axis=1)\n",
    "\n",
    "# create test dataset\n",
    "X_test = test.drop(['isFraud'], axis=1)\n",
    "y_test = test['isFraud']"
   ]
  },
  {
   "cell_type": "markdown",
   "id": "160973dd-c084-468e-bc1a-024a86728757",
   "metadata": {},
   "source": [
    "#### Decision Tree Classifier"
   ]
  },
  {
   "cell_type": "code",
   "execution_count": null,
   "id": "a02bcc30-77fa-4c58-bff3-4b91811bc338",
   "metadata": {
    "scrolled": true
   },
   "outputs": [],
   "source": [
    "# build decision tree and train\n",
    "decision_tree_classifier = DecisionTreeClassifier(random_state=42)\n",
    "decision_tree_classifier.fit(X_train, y_train)"
   ]
  },
  {
   "cell_type": "code",
   "execution_count": null,
   "id": "6b55d81f-8b7f-456b-bf61-331376984a71",
   "metadata": {},
   "outputs": [],
   "source": [
    "# predict using the trained decision tree\n",
    "y_pred = decision_tree_classifier.predict(X_test)"
   ]
  },
  {
   "cell_type": "code",
   "execution_count": null,
   "id": "12b223f1-68bd-4155-939b-dadad2816e1a",
   "metadata": {},
   "outputs": [],
   "source": [
    "# evaluate accuracy of decision tree\n",
    "accuracy = accuracy_score(y_test, y_pred)\n",
    "print(\"Accuracy:\", accuracy)\n",
    "print(\"Classification Report for Original Decision Tree Model:\")\n",
    "print(classification_report(y_test, y_pred))\n",
    "\n",
    "print(decision_tree_classifier.tree_.max_depth)"
   ]
  },
  {
   "cell_type": "code",
   "execution_count": null,
   "id": "37040ed9-1ca7-41ea-a46c-ebc22b74c54f",
   "metadata": {
    "scrolled": true
   },
   "outputs": [],
   "source": [
    "# plot the decision tree\n",
    "plt.figure(figsize=(20, 10))\n",
    "plot_tree(decision_tree_classifier, filled=True, feature_names=X_train.columns, class_names=[\"Not Fraud\", \"Fraud\"])\n",
    "plt.show()"
   ]
  },
  {
   "cell_type": "markdown",
   "id": "b724beaa-5202-4d94-90e2-ce192861012d",
   "metadata": {},
   "source": [
    "#### Issue #1: Decision Tree Model is Overfit\n",
    "\n",
    "Our current accuracy is **99.97%**. However, the decision tree model above is very deep and complex, which is indicative of **overfitting**. We will investigate the overfitting further. For improving we can set a maximum height to our tree."
   ]
  },
  {
   "cell_type": "markdown",
   "id": "48cefc1f-c675-4d2c-a7ea-1eefa8611bda",
   "metadata": {},
   "source": [
    "##### Improvement: Set a Maximum Depth of Tree"
   ]
  },
  {
   "cell_type": "markdown",
   "id": "4476ffdc-489a-462c-ae24-78684517cf71",
   "metadata": {
    "jp-MarkdownHeadingCollapsed": true
   },
   "source": [
    "First, let's try to systematically find the optimal depth of the tree before setting the maximum height. In this case, we will be using a 5-fold cross validation technique, to calculate the best precision, recall, and f1 score values at varying depths."
   ]
  },
  {
   "cell_type": "code",
   "execution_count": null,
   "id": "b3e2fbd2-240d-4385-ae86-82b0a9d5a547",
   "metadata": {},
   "outputs": [],
   "source": [
    "depth_range = list(range(1, 20))  \n",
    "param_grid = {'max_depth': depth_range}\n",
    "decision_tree_classifier = DecisionTreeClassifier()\n",
    "\n",
    "# calculate best precision and depth\n",
    "grid_precision = GridSearchCV(decision_tree_classifier, param_grid, cv=5, scoring='precision', return_train_score=False)\n",
    "grid_precision.fit(X_train, y_train)\n",
    "print(\"Best precision: \", grid_precision.best_score_)\n",
    "print(\"Best max_depth for precision: \", grid_precision.best_params_['max_depth'])\n",
    "\n",
    "# calculate best recall and depth\n",
    "grid_recall = GridSearchCV(decision_tree_classifier, param_grid, cv=5, scoring='recall', return_train_score=False)\n",
    "grid_recall.fit(X_train, y_train)\n",
    "print(\"Best recall: \", grid_recall.best_score_)\n",
    "print(\"Best max_depth for recall: \", grid_recall.best_params_['max_depth'])\n",
    "\n",
    "# calculate best F1 score and depth\n",
    "grid_f1 = GridSearchCV(decision_tree_classifier, param_grid, cv=5, scoring='f1', return_train_score=False)\n",
    "grid_f1.fit(X_train, y_train)\n",
    "print(\"Best F1 score: \", grid_f1.best_score_)\n",
    "print(\"Best max_depth for F1 score: \", grid_f1.best_params_['max_depth'])\n"
   ]
  },
  {
   "cell_type": "code",
   "execution_count": null,
   "id": "710d153f-790a-4648-bddf-00cad5367aa1",
   "metadata": {},
   "outputs": [],
   "source": [
    "# with max depth of 18 to get best f1 score\n",
    "decision_tree_classifier = DecisionTreeClassifier(max_depth=18)\n",
    "\n",
    "# Use cross_val_score to get the scores for each fold. \n",
    "# By default, it uses accuracy as the scoring metric.\n",
    "scores = cross_val_score(decision_tree_classifier, X_train, y_train, cv=5, scoring='f1')\n",
    "\n",
    "print(f\"Cross-validated scores: {scores}\")\n",
    "print(f\"Mean accuracy: {scores.mean()}\")\n",
    "print(f\"Standard deviation: {scores.std()}\")\n",
    "\n",
    "# Fit the model to the training data\n",
    "decision_tree_classifier.fit(X_train, y_train)\n",
    "\n",
    "# Make predictions on the test data\n",
    "y_pred = decision_tree_classifier.predict(X_test)\n",
    "print(classification_report(y_test, y_pred))\n",
    "plt.figure(figsize=(20, 10))\n",
    "plot_tree(decision_tree_classifier, filled=True, feature_names=X_train.columns, class_names=[\"Not Fraud\", \"Fraud\"])\n",
    "plt.show()"
   ]
  },
  {
   "cell_type": "markdown",
   "id": "33e31c6f",
   "metadata": {},
   "source": [
    "#### Random Forest Classifier"
   ]
  },
  {
   "cell_type": "code",
   "execution_count": null,
   "id": "918b7c23",
   "metadata": {
    "scrolled": true
   },
   "outputs": [],
   "source": [
    "random_forest_classifier = RandomForestClassifier(random_state=42)\n",
    "random_forest_classifier.fit(X_train, y_train)\n",
    "y_pred_rf = random_forest_classifier.predict(X_test)\n",
    "accuracy_rf = accuracy_score(y_test, y_pred_rf)\n",
    "print(\"Random Forest Model Accuracy:\", accuracy_rf)\n",
    "print(\"Classification Report for Random Forest Model:\")\n",
    "print(classification_report(y_test, y_pred_rf))"
   ]
  },
  {
   "cell_type": "markdown",
   "id": "231086f4",
   "metadata": {},
   "source": [
    "#### Logistic Regression Model"
   ]
  },
  {
   "cell_type": "code",
   "execution_count": null,
   "id": "77c1c6c1",
   "metadata": {
    "scrolled": true
   },
   "outputs": [],
   "source": [
    "logistic_regression_classifier = LogisticRegression(random_state=42)\n",
    "logistic_regression_classifier.fit(X_train, y_train)\n",
    "y_pred_lr = logistic_regression_classifier.predict(X_test)\n",
    "accuracy_lr = accuracy_score(y_test, y_pred_lr)\n",
    "print(\"Logistic Regression Model Accuracy:\", accuracy_lr)\n",
    "print(\"Classification Report for Logistic Regression Model:\")\n",
    "print(classification_report(y_test, y_pred_lr))"
   ]
  },
  {
   "cell_type": "markdown",
   "id": "e9e38ddf-c0d8-4484-81df-7f04556f5716",
   "metadata": {},
   "source": [
    "#### Issue #2: Logistic Regression Classifier have very low precision and recall values\n",
    "\n",
    "For the logistics regression model:\n",
    "\n",
    "According to our precision value, we see that out of all transactions that the model labelled fraudulent, only 0.37 or **37%** were actually fraudulent (true positives).\n",
    "\n",
    "According to our recall value, we see that out of all the transactions that were actually fraudulent, we only caught 0.42 or **42%** of those fraudulent, and the rest were labelled legitimate. Meaning, we missed 58% of all total fraudulent transactions we could have caught.\n",
    "\n",
    "This is not good performance, and therefore we should look towards improving our logistic regression model."
   ]
  },
  {
   "cell_type": "markdown",
   "id": "b2ba3929-a1f6-4974-85e3-61d930abcd45",
   "metadata": {},
   "source": [
    "Note the following precision and recall functions:\n",
    "\n",
    "precision = true positive / (true positive + false positive).\n",
    "recall = true positive / (false negative + true positive)."
   ]
  },
  {
   "cell_type": "markdown",
   "id": "4d123db4",
   "metadata": {},
   "source": [
    "##### Improvement: A Logistic Regression model with L1 regularization"
   ]
  },
  {
   "cell_type": "code",
   "execution_count": null,
   "id": "cd374760",
   "metadata": {},
   "outputs": [],
   "source": [
    "logistic_regression_l1 = LogisticRegression(penalty='l1', C=1, solver='liblinear', random_state=42)\n",
    "logistic_regression_l1.fit(X_train, y_train)\n",
    "y_pred_l1 = logistic_regression_l1.predict(X_test)\n",
    "accuracy_l1 = accuracy_score(y_test, y_pred_l1)\n",
    "print(\"Logistic Regression (L1 Regularization) Model Accuracy:\", accuracy_l1)\n",
    "print(\"Classification Report for L1 Regularization Model:\")\n",
    "print(classification_report(y_test, y_pred_l1))"
   ]
  },
  {
   "cell_type": "markdown",
   "id": "895e42ce",
   "metadata": {},
   "source": [
    "#### Compare accuracy between models"
   ]
  },
  {
   "cell_type": "code",
   "execution_count": null,
   "id": "63ca6700",
   "metadata": {},
   "outputs": [],
   "source": [
    "print(\"Original Decision Tree Model Accuracy:\", accuracy)\n",
    "print(\"Random Forest Model Accuracy:\", accuracy_rf)\n",
    "print(\"Logistic Regression Model Accuracy:\", accuracy_lr)\n",
    "print(\"Logistic Regression (L1 Regularization) Model Accuracy:\", accuracy_l1)"
   ]
  }
 ],
 "metadata": {
  "kernelspec": {
   "display_name": "Python 3 (ipykernel)",
   "language": "python",
   "name": "python3"
  },
  "language_info": {
   "codemirror_mode": {
    "name": "ipython",
    "version": 3
   },
   "file_extension": ".py",
   "mimetype": "text/x-python",
   "name": "python",
   "nbconvert_exporter": "python",
   "pygments_lexer": "ipython3",
   "version": "3.10.12"
  }
 },
 "nbformat": 4,
 "nbformat_minor": 5
}

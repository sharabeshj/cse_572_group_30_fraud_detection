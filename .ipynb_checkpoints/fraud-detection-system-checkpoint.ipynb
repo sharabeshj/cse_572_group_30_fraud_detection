{
 "cells": [
  {
   "cell_type": "markdown",
   "id": "14874bad-7ee4-4527-b763-e0802ea4d6fd",
   "metadata": {},
   "source": [
    "# Fraud Detection System"
   ]
  },
  {
   "cell_type": "markdown",
   "id": "70210d72-09b1-47cd-81e4-3f3988c95b81",
   "metadata": {},
   "source": [
    "### Data Mining Pipeline\n",
    "1. Problem Statement\n",
    "2. Data Collection\n",
    "3. Data Analysis and Visualization\n",
    "4. Data Processing\n",
    "5. Model Selection and Training\n",
    "6. Model Evaulation "
   ]
  },
  {
   "cell_type": "code",
   "execution_count": 1,
   "id": "683e8abb",
   "metadata": {
    "scrolled": true
   },
   "outputs": [
    {
     "name": "stdout",
     "output_type": "stream",
     "text": [
      "Requirement already satisfied: kaggle in c:\\users\\shara\\anaconda3\\lib\\site-packages (1.5.16)\n",
      "Requirement already satisfied: six>=1.10 in c:\\users\\shara\\anaconda3\\lib\\site-packages (from kaggle) (1.16.0)\n",
      "Requirement already satisfied: python-dateutil in c:\\users\\shara\\anaconda3\\lib\\site-packages (from kaggle) (2.8.2)\n",
      "Requirement already satisfied: urllib3 in c:\\users\\shara\\anaconda3\\lib\\site-packages (from kaggle) (1.26.11)\n",
      "Requirement already satisfied: python-slugify in c:\\users\\shara\\anaconda3\\lib\\site-packages (from kaggle) (5.0.2)\n",
      "Requirement already satisfied: bleach in c:\\users\\shara\\anaconda3\\lib\\site-packages (from kaggle) (4.1.0)\n",
      "Requirement already satisfied: requests in c:\\users\\shara\\anaconda3\\lib\\site-packages (from kaggle) (2.28.1)\n",
      "Requirement already satisfied: certifi in c:\\users\\shara\\anaconda3\\lib\\site-packages (from kaggle) (2022.9.14)\n",
      "Requirement already satisfied: tqdm in c:\\users\\shara\\anaconda3\\lib\\site-packages (from kaggle) (4.64.1)\n",
      "Requirement already satisfied: webencodings in c:\\users\\shara\\anaconda3\\lib\\site-packages (from bleach->kaggle) (0.5.1)\n",
      "Requirement already satisfied: packaging in c:\\users\\shara\\anaconda3\\lib\\site-packages (from bleach->kaggle) (21.3)\n",
      "Requirement already satisfied: text-unidecode>=1.3 in c:\\users\\shara\\anaconda3\\lib\\site-packages (from python-slugify->kaggle) (1.3)\n",
      "Requirement already satisfied: idna<4,>=2.5 in c:\\users\\shara\\anaconda3\\lib\\site-packages (from requests->kaggle) (3.3)\n",
      "Requirement already satisfied: charset-normalizer<3,>=2 in c:\\users\\shara\\anaconda3\\lib\\site-packages (from requests->kaggle) (2.0.4)\n",
      "Requirement already satisfied: colorama in c:\\users\\shara\\anaconda3\\lib\\site-packages (from tqdm->kaggle) (0.4.5)\n",
      "Requirement already satisfied: pyparsing!=3.0.5,>=2.0.2 in c:\\users\\shara\\anaconda3\\lib\\site-packages (from packaging->bleach->kaggle) (3.0.9)\n"
     ]
    }
   ],
   "source": [
    "!pip install kaggle"
   ]
  },
  {
   "cell_type": "code",
   "execution_count": 2,
   "id": "a6f91b6a",
   "metadata": {},
   "outputs": [],
   "source": [
    "# data retrieval\n",
    "import os\n",
    "import io\n",
    "import zipfile\n",
    "import shutil\n",
    "\n",
    "# data analysis\n",
    "import pandas as pd\n",
    "import numpy as np\n",
    "\n",
    "# visualization\n",
    "import seaborn as sns\n",
    "import matplotlib.pyplot as plt\n",
    "\n",
    "# models\n",
    "# -\n",
    "\n",
    "# other\n",
    "import warnings\n",
    "warnings.filterwarnings(\"ignore\", category=DeprecationWarning)"
   ]
  },
  {
   "cell_type": "markdown",
   "id": "9db4c945-1bdf-4d73-af13-71df64feb4aa",
   "metadata": {
    "jp-MarkdownHeadingCollapsed": true
   },
   "source": [
    "### Data Collection (Retrieval Using Kaggle Key)\n",
    "- You must have a Kaggle account and API key to retrieve their dataset. To retrieve the key, follow: https://www.kaggle.com/docs/api\n",
    "- Then, download the paysim1.zip from https://www.kaggle.com/datasets/ealaxi/paysim1 and add within the same directory as this notebook file."
   ]
  },
  {
   "cell_type": "code",
   "execution_count": 3,
   "id": "13a28b53",
   "metadata": {},
   "outputs": [],
   "source": [
    "# Set your Kaggle API key credentials (replace with your own values)\n",
    "os.environ['KAGGLE_USERNAME'] = 'your_username'\n",
    "os.environ['KAGGLE_KEY'] = 'your_api_key'"
   ]
  },
  {
   "cell_type": "code",
   "execution_count": 4,
   "id": "020eea96",
   "metadata": {
    "scrolled": true
   },
   "outputs": [],
   "source": [
    "if not os.path.exists(\"paysim1.zip\"):\n",
    "    # Use Kaggle CLI to download the \"paysim1\" dataset\n",
    "    !kaggle datasets download -d ealaxi/paysim1\n",
    "    \n",
    "if os.path.exists(\"paysim1.zip\"):\n",
    "    with zipfile.ZipFile(\"paysim1.zip\", \"r\") as zip_ref:\n",
    "        zip_ref.extractall(\"paysim1\")\n",
    "        \n",
    "    # Specify the path to the CSV file\n",
    "    csv_file_path = \"paysim1/PS_20174392719_1491204439457_log.csv\"\n",
    "    \n",
    "    # Read the CSV file content into memory\n",
    "    with open(csv_file_path, \"rb\") as f:\n",
    "        csv_content = f.read()\n",
    "    shutil.rmtree(\"paysim1\")\n",
    "else:\n",
    "    print(\"The paysim1.zip file is missing. Dataset not downloaded.\")\n"
   ]
  },
  {
   "cell_type": "markdown",
   "id": "e008a243-d032-496b-aa2d-06f4214404f5",
   "metadata": {
    "jp-MarkdownHeadingCollapsed": true
   },
   "source": [
    "### Data Analysis\n",
    "In the next two sections, we will perform a data analysis by description and by data visualization.\n",
    "\n",
    "After reading in the dataset, we see eleven different features:\n",
    "- **step**: time length of transaction (1 step = 1 hour)\n",
    "- **type**: type of transaction (CASH-IN, CASH-OUT, DEBIT, PAYMENT, TRANSFER)\n",
    "- **amount**: amount of money (dollars) involved\n",
    "- **nameOrig**: ID of sender\n",
    "- **oldbalanceOrg**: initial balance of sender\n",
    "- **newbalanceOrig**: final balance of sender\n",
    "- **nameDest**: ID of recipient\n",
    "- **oldBalanceDest**: initial balance of recipient\n",
    "- **newBalanceDest**: final balance of recipient\n",
    "- **isFraud**: a flag for fradulent (1) and non-fraudulent (0) transactions\n",
    "- **isFlaggedFraud**: a flag that checks if transaction has been flagged as fraud (1) or not (0)"
   ]
  },
  {
   "cell_type": "code",
   "execution_count": 5,
   "id": "196b8e8a",
   "metadata": {
    "scrolled": true
   },
   "outputs": [
    {
     "name": "stdout",
     "output_type": "stream",
     "text": [
      "['step' 'type' 'amount' 'nameOrig' 'oldbalanceOrg' 'newbalanceOrig'\n",
      " 'nameDest' 'oldbalanceDest' 'newbalanceDest' 'isFraud' 'isFlaggedFraud']\n"
     ]
    }
   ],
   "source": [
    "data = pd.read_csv(io.BytesIO(csv_content))\n",
    "print(data.columns.values)"
   ]
  },
  {
   "cell_type": "markdown",
   "id": "87f4e66d-32e6-424d-9238-0747ccfe8d1e",
   "metadata": {},
   "source": [
    "From the names of the attributes shown, we find inconsistency in the naming convention. We update the name of newBalanceOrg to newbalanceOrig to match with the other attribute names."
   ]
  },
  {
   "cell_type": "code",
   "execution_count": 6,
   "id": "a7b9f6ba-e93b-443b-b78c-930bb0e5febd",
   "metadata": {},
   "outputs": [],
   "source": [
    "data.rename(columns={'newbalanceOrig':'newbalanceOrg'},inplace=True)"
   ]
  },
  {
   "cell_type": "markdown",
   "id": "88b38d5b-c1e4-48e2-8ca2-a38a5329b002",
   "metadata": {},
   "source": [
    "In the first step of our analysis, we check to see if our data set has any null values. \n",
    "We find that there are **no NULL values** in all eleven features."
   ]
  },
  {
   "cell_type": "code",
   "execution_count": 7,
   "id": "9c59046b",
   "metadata": {
    "scrolled": true
   },
   "outputs": [
    {
     "name": "stdout",
     "output_type": "stream",
     "text": [
      "Data does not have any NULL value.\n"
     ]
    },
    {
     "data": {
      "text/plain": [
       "step              False\n",
       "type              False\n",
       "amount            False\n",
       "nameOrig          False\n",
       "oldbalanceOrg     False\n",
       "newbalanceOrg     False\n",
       "nameDest          False\n",
       "oldbalanceDest    False\n",
       "newbalanceDest    False\n",
       "isFraud           False\n",
       "isFlaggedFraud    False\n",
       "dtype: bool"
      ]
     },
     "execution_count": 7,
     "metadata": {},
     "output_type": "execute_result"
    }
   ],
   "source": [
    "print('Data does not have any NULL value.')\n",
    "data.isnull().any()"
   ]
  },
  {
   "cell_type": "markdown",
   "id": "a31c4b72-4184-4947-81e7-ee7a065862c5",
   "metadata": {},
   "source": [
    "**Feature Data Types**\n",
    "\n",
    "Next, we check the data types for the eleven features. Here, we found:\n",
    "* Three features are object/string type.\n",
    "* Three features are integers.\n",
    "* Five features are floats."
   ]
  },
  {
   "cell_type": "code",
   "execution_count": 8,
   "id": "c0c7e12c-1df5-43d5-8cb8-8048b96c6767",
   "metadata": {
    "scrolled": true
   },
   "outputs": [
    {
     "name": "stdout",
     "output_type": "stream",
     "text": [
      "<class 'pandas.core.frame.DataFrame'>\n",
      "RangeIndex: 6362620 entries, 0 to 6362619\n",
      "Data columns (total 11 columns):\n",
      " #   Column          Dtype  \n",
      "---  ------          -----  \n",
      " 0   step            int64  \n",
      " 1   type            object \n",
      " 2   amount          float64\n",
      " 3   nameOrig        object \n",
      " 4   oldbalanceOrg   float64\n",
      " 5   newbalanceOrg   float64\n",
      " 6   nameDest        object \n",
      " 7   oldbalanceDest  float64\n",
      " 8   newbalanceDest  float64\n",
      " 9   isFraud         int64  \n",
      " 10  isFlaggedFraud  int64  \n",
      "dtypes: float64(5), int64(3), object(3)\n",
      "memory usage: 534.0+ MB\n"
     ]
    }
   ],
   "source": [
    "data.info()"
   ]
  },
  {
   "cell_type": "markdown",
   "id": "6a3fe943-2344-42b2-b944-ed635a667402",
   "metadata": {},
   "source": [
    "Out of the three object types, we drop **nameOrig** and **nameDest**, because __. Which leaves us with only nine features to wrangle with."
   ]
  },
  {
   "cell_type": "code",
   "execution_count": 9,
   "id": "4895bb6e",
   "metadata": {
    "scrolled": true
   },
   "outputs": [
    {
     "data": {
      "text/html": [
       "<div>\n",
       "<style scoped>\n",
       "    .dataframe tbody tr th:only-of-type {\n",
       "        vertical-align: middle;\n",
       "    }\n",
       "\n",
       "    .dataframe tbody tr th {\n",
       "        vertical-align: top;\n",
       "    }\n",
       "\n",
       "    .dataframe thead th {\n",
       "        text-align: right;\n",
       "    }\n",
       "</style>\n",
       "<table border=\"1\" class=\"dataframe\">\n",
       "  <thead>\n",
       "    <tr style=\"text-align: right;\">\n",
       "      <th></th>\n",
       "      <th>step</th>\n",
       "      <th>type</th>\n",
       "      <th>amount</th>\n",
       "      <th>oldbalanceOrg</th>\n",
       "      <th>newbalanceOrg</th>\n",
       "      <th>oldbalanceDest</th>\n",
       "      <th>newbalanceDest</th>\n",
       "      <th>isFraud</th>\n",
       "      <th>isFlaggedFraud</th>\n",
       "    </tr>\n",
       "  </thead>\n",
       "  <tbody>\n",
       "    <tr>\n",
       "      <th>0</th>\n",
       "      <td>1</td>\n",
       "      <td>PAYMENT</td>\n",
       "      <td>9839.64</td>\n",
       "      <td>170136.0</td>\n",
       "      <td>160296.36</td>\n",
       "      <td>0.0</td>\n",
       "      <td>0.0</td>\n",
       "      <td>0</td>\n",
       "      <td>0</td>\n",
       "    </tr>\n",
       "    <tr>\n",
       "      <th>1</th>\n",
       "      <td>1</td>\n",
       "      <td>PAYMENT</td>\n",
       "      <td>1864.28</td>\n",
       "      <td>21249.0</td>\n",
       "      <td>19384.72</td>\n",
       "      <td>0.0</td>\n",
       "      <td>0.0</td>\n",
       "      <td>0</td>\n",
       "      <td>0</td>\n",
       "    </tr>\n",
       "    <tr>\n",
       "      <th>2</th>\n",
       "      <td>1</td>\n",
       "      <td>TRANSFER</td>\n",
       "      <td>181.00</td>\n",
       "      <td>181.0</td>\n",
       "      <td>0.00</td>\n",
       "      <td>0.0</td>\n",
       "      <td>0.0</td>\n",
       "      <td>1</td>\n",
       "      <td>0</td>\n",
       "    </tr>\n",
       "    <tr>\n",
       "      <th>3</th>\n",
       "      <td>1</td>\n",
       "      <td>CASH_OUT</td>\n",
       "      <td>181.00</td>\n",
       "      <td>181.0</td>\n",
       "      <td>0.00</td>\n",
       "      <td>21182.0</td>\n",
       "      <td>0.0</td>\n",
       "      <td>1</td>\n",
       "      <td>0</td>\n",
       "    </tr>\n",
       "    <tr>\n",
       "      <th>4</th>\n",
       "      <td>1</td>\n",
       "      <td>PAYMENT</td>\n",
       "      <td>11668.14</td>\n",
       "      <td>41554.0</td>\n",
       "      <td>29885.86</td>\n",
       "      <td>0.0</td>\n",
       "      <td>0.0</td>\n",
       "      <td>0</td>\n",
       "      <td>0</td>\n",
       "    </tr>\n",
       "  </tbody>\n",
       "</table>\n",
       "</div>"
      ],
      "text/plain": [
       "   step      type    amount  oldbalanceOrg  newbalanceOrg  oldbalanceDest  \\\n",
       "0     1   PAYMENT   9839.64       170136.0      160296.36             0.0   \n",
       "1     1   PAYMENT   1864.28        21249.0       19384.72             0.0   \n",
       "2     1  TRANSFER    181.00          181.0           0.00             0.0   \n",
       "3     1  CASH_OUT    181.00          181.0           0.00         21182.0   \n",
       "4     1   PAYMENT  11668.14        41554.0       29885.86             0.0   \n",
       "\n",
       "   newbalanceDest  isFraud  isFlaggedFraud  \n",
       "0             0.0        0               0  \n",
       "1             0.0        0               0  \n",
       "2             0.0        1               0  \n",
       "3             0.0        1               0  \n",
       "4             0.0        0               0  "
      ]
     },
     "execution_count": 9,
     "metadata": {},
     "output_type": "execute_result"
    }
   ],
   "source": [
    "data.drop(labels=['nameOrig','nameDest'],axis=1,inplace=True)\n",
    "data.head()"
   ]
  },
  {
   "cell_type": "markdown",
   "id": "654b4c10-b7d5-4cf9-b5e4-5279d27ec4c9",
   "metadata": {},
   "source": [
    "Finally, we note the minimum and maximum values of the amount, oldbalanceOrig, newbalanceOrig, oldbalanceDest, and newBalanceDest.\n",
    "*Something interesting to note is that there are transaction amounts that is at $0, after applying the minimum. This indicates that no money was sent or received in certain transactions. These transactions may be classified as noise that can be removed later.*\n"
   ]
  },
  {
   "cell_type": "code",
   "execution_count": 10,
   "id": "d5e954fe",
   "metadata": {
    "scrolled": true
   },
   "outputs": [
    {
     "name": "stdout",
     "output_type": "stream",
     "text": [
      "Minimum value of Amount, Old/New Balance of Origin/Destination:\n"
     ]
    },
    {
     "data": {
      "text/plain": [
       "amount            0.0\n",
       "oldbalanceOrg     0.0\n",
       "newbalanceOrg     0.0\n",
       "oldbalanceDest    0.0\n",
       "newbalanceDest    0.0\n",
       "dtype: float64"
      ]
     },
     "execution_count": 10,
     "metadata": {},
     "output_type": "execute_result"
    }
   ],
   "source": [
    "print('Minimum value of Amount, Old/New Balance of Origin/Destination:')\n",
    "data[[ 'amount','oldbalanceOrg', 'newbalanceOrg', 'oldbalanceDest', 'newbalanceDest']].min()"
   ]
  },
  {
   "cell_type": "code",
   "execution_count": 11,
   "id": "ee137303",
   "metadata": {},
   "outputs": [
    {
     "name": "stdout",
     "output_type": "stream",
     "text": [
      "Maximum value of Amount, Old/New Balance of Origin/Destination:\n"
     ]
    },
    {
     "data": {
      "text/plain": [
       "amount            9.244552e+07\n",
       "oldbalanceOrg     5.958504e+07\n",
       "newbalanceOrg     4.958504e+07\n",
       "oldbalanceDest    3.560159e+08\n",
       "newbalanceDest    3.561793e+08\n",
       "dtype: float64"
      ]
     },
     "execution_count": 11,
     "metadata": {},
     "output_type": "execute_result"
    }
   ],
   "source": [
    "print('Maximum value of Amount, Old/New Balance of Origin/Destination:')\n",
    "data[[ 'amount','oldbalanceOrg', 'newbalanceOrg', 'oldbalanceDest', 'newbalanceDest']].max()"
   ]
  },
  {
   "cell_type": "markdown",
   "id": "08e05241-b62e-4118-aa2d-cb6523ee83c4",
   "metadata": {},
   "source": [
    "### Data Visualization"
   ]
  },
  {
   "cell_type": "code",
   "execution_count": 12,
   "id": "7da3ebd2",
   "metadata": {},
   "outputs": [
    {
     "data": {
      "text/plain": [
       "Text(0, 0.5, 'Amount')"
      ]
     },
     "execution_count": 12,
     "metadata": {},
     "output_type": "execute_result"
    },
    {
     "data": {
      "image/png": "[encoded data removed]",
      "text/plain": [
       "<Figure size 640x480 with 1 Axes>"
      ]
     },
     "metadata": {},
     "output_type": "display_data"
    }
   ],
   "source": [
    "var = data.groupby('type').amount.sum()\n",
    "fig = plt.figure()\n",
    "ax1 = fig.add_subplot(1,1,1)\n",
    "var.plot(kind='bar')\n",
    "ax1.set_title(\"Total amount per transaction type\")\n",
    "ax1.set_xlabel('Type of Transaction')\n",
    "ax1.set_ylabel('Amount')"
   ]
  },
  {
   "cell_type": "code",
   "execution_count": 13,
   "id": "222081f8",
   "metadata": {},
   "outputs": [
    {
     "data": {
      "text/plain": [
       "array(['TRANSFER', 'CASH_OUT'], dtype=object)"
      ]
     },
     "execution_count": 13,
     "metadata": {},
     "output_type": "execute_result"
    }
   ],
   "source": [
    "data.loc[data.isFraud == 1].type.unique()"
   ]
  },
  {
   "cell_type": "code",
   "execution_count": 14,
   "id": "fb75e797",
   "metadata": {},
   "outputs": [
    {
     "data": {
      "image/png": "[encoded data removed]",
      "text/plain": [
       "<Figure size 640x480 with 2 Axes>"
      ]
     },
     "metadata": {},
     "output_type": "display_data"
    }
   ],
   "source": [
    "sns.heatmap(data.corr(),cmap='RdBu');"
   ]
  },
  {
   "cell_type": "code",
   "execution_count": 15,
   "id": "00a7c963",
   "metadata": {},
   "outputs": [
    {
     "data": {
      "image/png": "[encoded data removed]",
      "text/plain": [
       "<Figure size 640x480 with 1 Axes>"
      ]
     },
     "metadata": {},
     "output_type": "display_data"
    }
   ],
   "source": [
    "fraud = data.loc[data.isFraud == 1]\n",
    "nonfraud = data.loc[data.isFraud == 0]\n",
    "\n",
    "fig = plt.figure()\n",
    "axes = fig.add_subplot(1,1,1)\n",
    "axes.set_title(\"Fraud transaction which are Flagged Correctly\")\n",
    "axes.scatter(nonfraud['amount'],nonfraud['isFlaggedFraud'],c='g')\n",
    "axes.scatter(fraud['amount'],fraud['isFlaggedFraud'],c='r')\n",
    "plt.legend(loc='upper right',labels=['Not Flagged','Flagged'])\n",
    "plt.show()"
   ]
  },
  {
   "cell_type": "markdown",
   "id": "c8eb0a14",
   "metadata": {},
   "source": [
    "The plot above clearly shows the need for a system which can be fast and reliable to mark the transaction which is fraud. Since, the current system is letting fraud transaction able to pass through a system which is not labeling them as a fraud."
   ]
  },
  {
   "cell_type": "markdown",
   "id": "62f9caf1-faa8-4af0-b285-db1547c32d4b",
   "metadata": {},
   "source": [
    "### Data Pre-processing"
   ]
  },
  {
   "cell_type": "code",
   "execution_count": 16,
   "id": "07325bb9",
   "metadata": {},
   "outputs": [],
   "source": [
    "data = data.replace(to_replace={'PAYMENT':1,'TRANSFER':2,'CASH_OUT':3,\n",
    "                                            'CASH_IN':4,'DEBIT':5,'No':0,'Yes':1})"
   ]
  },
  {
   "cell_type": "code",
   "execution_count": 17,
   "id": "e9a96bd8",
   "metadata": {},
   "outputs": [],
   "source": [
    "data.drop(['isFlaggedFraud'],axis=1,inplace=True)\n"
   ]
  },
  {
   "cell_type": "code",
   "execution_count": 18,
   "id": "2b1c9422",
   "metadata": {},
   "outputs": [
    {
     "data": {
      "text/html": [
       "<div>\n",
       "<style scoped>\n",
       "    .dataframe tbody tr th:only-of-type {\n",
       "        vertical-align: middle;\n",
       "    }\n",
       "\n",
       "    .dataframe tbody tr th {\n",
       "        vertical-align: top;\n",
       "    }\n",
       "\n",
       "    .dataframe thead th {\n",
       "        text-align: right;\n",
       "    }\n",
       "</style>\n",
       "<table border=\"1\" class=\"dataframe\">\n",
       "  <thead>\n",
       "    <tr style=\"text-align: right;\">\n",
       "      <th></th>\n",
       "      <th>step</th>\n",
       "      <th>type</th>\n",
       "      <th>amount</th>\n",
       "      <th>oldbalanceOrg</th>\n",
       "      <th>newbalanceOrg</th>\n",
       "      <th>oldbalanceDest</th>\n",
       "      <th>newbalanceDest</th>\n",
       "      <th>isFraud</th>\n",
       "    </tr>\n",
       "  </thead>\n",
       "  <tbody>\n",
       "    <tr>\n",
       "      <th>0</th>\n",
       "      <td>1</td>\n",
       "      <td>1</td>\n",
       "      <td>9839.64</td>\n",
       "      <td>170136.0</td>\n",
       "      <td>160296.36</td>\n",
       "      <td>0.0</td>\n",
       "      <td>0.0</td>\n",
       "      <td>0</td>\n",
       "    </tr>\n",
       "    <tr>\n",
       "      <th>1</th>\n",
       "      <td>1</td>\n",
       "      <td>1</td>\n",
       "      <td>1864.28</td>\n",
       "      <td>21249.0</td>\n",
       "      <td>19384.72</td>\n",
       "      <td>0.0</td>\n",
       "      <td>0.0</td>\n",
       "      <td>0</td>\n",
       "    </tr>\n",
       "    <tr>\n",
       "      <th>2</th>\n",
       "      <td>1</td>\n",
       "      <td>2</td>\n",
       "      <td>181.00</td>\n",
       "      <td>181.0</td>\n",
       "      <td>0.00</td>\n",
       "      <td>0.0</td>\n",
       "      <td>0.0</td>\n",
       "      <td>1</td>\n",
       "    </tr>\n",
       "    <tr>\n",
       "      <th>3</th>\n",
       "      <td>1</td>\n",
       "      <td>3</td>\n",
       "      <td>181.00</td>\n",
       "      <td>181.0</td>\n",
       "      <td>0.00</td>\n",
       "      <td>21182.0</td>\n",
       "      <td>0.0</td>\n",
       "      <td>1</td>\n",
       "    </tr>\n",
       "    <tr>\n",
       "      <th>4</th>\n",
       "      <td>1</td>\n",
       "      <td>1</td>\n",
       "      <td>11668.14</td>\n",
       "      <td>41554.0</td>\n",
       "      <td>29885.86</td>\n",
       "      <td>0.0</td>\n",
       "      <td>0.0</td>\n",
       "      <td>0</td>\n",
       "    </tr>\n",
       "  </tbody>\n",
       "</table>\n",
       "</div>"
      ],
      "text/plain": [
       "   step  type    amount  oldbalanceOrg  newbalanceOrg  oldbalanceDest  \\\n",
       "0     1     1   9839.64       170136.0      160296.36             0.0   \n",
       "1     1     1   1864.28        21249.0       19384.72             0.0   \n",
       "2     1     2    181.00          181.0           0.00             0.0   \n",
       "3     1     3    181.00          181.0           0.00         21182.0   \n",
       "4     1     1  11668.14        41554.0       29885.86             0.0   \n",
       "\n",
       "   newbalanceDest  isFraud  \n",
       "0             0.0        0  \n",
       "1             0.0        0  \n",
       "2             0.0        1  \n",
       "3             0.0        1  \n",
       "4             0.0        0  "
      ]
     },
     "execution_count": 18,
     "metadata": {},
     "output_type": "execute_result"
    }
   ],
   "source": [
    "data.head()"
   ]
  },
  {
   "cell_type": "code",
   "execution_count": 19,
   "id": "0cd35987",
   "metadata": {},
   "outputs": [],
   "source": [
    "X = data.drop(['isFraud'],axis=1)\n",
    "y = data[['isFraud']]"
   ]
  },
  {
   "cell_type": "markdown",
   "id": "fb8243dc",
   "metadata": {},
   "source": [
    "### Machine Learning Model"
   ]
  },
  {
   "cell_type": "code",
   "execution_count": null,
   "id": "8298b8af",
   "metadata": {},
   "outputs": [],
   "source": []
  }
 ],
 "metadata": {
  "kernelspec": {
   "display_name": "Python 3 (ipykernel)",
   "language": "python",
   "name": "python3"
  },
  "language_info": {
   "codemirror_mode": {
    "name": "ipython",
    "version": 3
   },
   "file_extension": ".py",
   "mimetype": "text/x-python",
   "name": "python",
   "nbconvert_exporter": "python",
   "pygments_lexer": "ipython3",
   "version": "3.9.13"
  }
 },
 "nbformat": 4,
 "nbformat_minor": 5
}
